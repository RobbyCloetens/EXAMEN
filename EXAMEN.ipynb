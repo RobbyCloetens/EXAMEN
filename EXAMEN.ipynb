{
 "cells": [
  {
   "cell_type": "code",
   "execution_count": 5,
   "metadata": {},
   "outputs": [],
   "source": [
    "import pandas as pd\n",
    "import numpy as np\n",
    "from random import randrange\n",
    "import matplotlib.pyplot as plt\n",
    "import matplotlib.mlab as mlab\n",
    "import seaborn as sns; sns.set()\n",
    "from scipy import stats\n",
    "import math\n",
    "import os\n",
    "import random\n",
    "from sklearn.linear_model import LinearRegression\n",
    "from sklearn.model_selection import train_test_split\n",
    "from sklearn.metrics import mean_squared_error\n",
    "from sklearn.preprocessing import PolynomialFeatures\n",
    "from sklearn.linear_model import LogisticRegression\n",
    "from sklearn.tree import DecisionTreeClassifier\n",
    "from sklearn.neighbors import KNeighborsClassifier"
   ]
  },
  {
   "cell_type": "code",
   "execution_count": 6,
   "metadata": {},
   "outputs": [
    {
     "data": {
      "text/html": [
       "<div>\n",
       "<style scoped>\n",
       "    .dataframe tbody tr th:only-of-type {\n",
       "        vertical-align: middle;\n",
       "    }\n",
       "\n",
       "    .dataframe tbody tr th {\n",
       "        vertical-align: top;\n",
       "    }\n",
       "\n",
       "    .dataframe thead th {\n",
       "        text-align: right;\n",
       "    }\n",
       "</style>\n",
       "<table border=\"1\" class=\"dataframe\">\n",
       "  <thead>\n",
       "    <tr style=\"text-align: right;\">\n",
       "      <th></th>\n",
       "      <th>school</th>\n",
       "      <th>sex</th>\n",
       "      <th>age</th>\n",
       "      <th>address</th>\n",
       "      <th>famsize</th>\n",
       "      <th>Pstatus</th>\n",
       "      <th>Medu</th>\n",
       "      <th>Fedu</th>\n",
       "      <th>Mjob</th>\n",
       "      <th>Fjob</th>\n",
       "      <th>...</th>\n",
       "      <th>famrel.y</th>\n",
       "      <th>freetime.y</th>\n",
       "      <th>goout.y</th>\n",
       "      <th>Dalc.y</th>\n",
       "      <th>Walc.y</th>\n",
       "      <th>health.y</th>\n",
       "      <th>absences.y</th>\n",
       "      <th>G1.y</th>\n",
       "      <th>G2.y</th>\n",
       "      <th>G3.y</th>\n",
       "    </tr>\n",
       "  </thead>\n",
       "  <tbody>\n",
       "    <tr>\n",
       "      <th>0</th>\n",
       "      <td>GP</td>\n",
       "      <td>F</td>\n",
       "      <td>15</td>\n",
       "      <td>R</td>\n",
       "      <td>GT3</td>\n",
       "      <td>T</td>\n",
       "      <td>1</td>\n",
       "      <td>1</td>\n",
       "      <td>at_home</td>\n",
       "      <td>other</td>\n",
       "      <td>...</td>\n",
       "      <td>3</td>\n",
       "      <td>1</td>\n",
       "      <td>2</td>\n",
       "      <td>1</td>\n",
       "      <td>1</td>\n",
       "      <td>1</td>\n",
       "      <td>4</td>\n",
       "      <td>13</td>\n",
       "      <td>13</td>\n",
       "      <td>13</td>\n",
       "    </tr>\n",
       "    <tr>\n",
       "      <th>1</th>\n",
       "      <td>GP</td>\n",
       "      <td>F</td>\n",
       "      <td>15</td>\n",
       "      <td>R</td>\n",
       "      <td>GT3</td>\n",
       "      <td>T</td>\n",
       "      <td>1</td>\n",
       "      <td>1</td>\n",
       "      <td>other</td>\n",
       "      <td>other</td>\n",
       "      <td>...</td>\n",
       "      <td>3</td>\n",
       "      <td>3</td>\n",
       "      <td>4</td>\n",
       "      <td>2</td>\n",
       "      <td>4</td>\n",
       "      <td>5</td>\n",
       "      <td>2</td>\n",
       "      <td>13</td>\n",
       "      <td>11</td>\n",
       "      <td>11</td>\n",
       "    </tr>\n",
       "    <tr>\n",
       "      <th>2</th>\n",
       "      <td>GP</td>\n",
       "      <td>F</td>\n",
       "      <td>15</td>\n",
       "      <td>R</td>\n",
       "      <td>GT3</td>\n",
       "      <td>T</td>\n",
       "      <td>2</td>\n",
       "      <td>2</td>\n",
       "      <td>at_home</td>\n",
       "      <td>other</td>\n",
       "      <td>...</td>\n",
       "      <td>4</td>\n",
       "      <td>3</td>\n",
       "      <td>1</td>\n",
       "      <td>1</td>\n",
       "      <td>1</td>\n",
       "      <td>2</td>\n",
       "      <td>8</td>\n",
       "      <td>14</td>\n",
       "      <td>13</td>\n",
       "      <td>12</td>\n",
       "    </tr>\n",
       "    <tr>\n",
       "      <th>3</th>\n",
       "      <td>GP</td>\n",
       "      <td>F</td>\n",
       "      <td>15</td>\n",
       "      <td>R</td>\n",
       "      <td>GT3</td>\n",
       "      <td>T</td>\n",
       "      <td>2</td>\n",
       "      <td>4</td>\n",
       "      <td>services</td>\n",
       "      <td>health</td>\n",
       "      <td>...</td>\n",
       "      <td>4</td>\n",
       "      <td>3</td>\n",
       "      <td>2</td>\n",
       "      <td>1</td>\n",
       "      <td>1</td>\n",
       "      <td>5</td>\n",
       "      <td>2</td>\n",
       "      <td>10</td>\n",
       "      <td>11</td>\n",
       "      <td>10</td>\n",
       "    </tr>\n",
       "    <tr>\n",
       "      <th>4</th>\n",
       "      <td>GP</td>\n",
       "      <td>F</td>\n",
       "      <td>15</td>\n",
       "      <td>R</td>\n",
       "      <td>GT3</td>\n",
       "      <td>T</td>\n",
       "      <td>3</td>\n",
       "      <td>3</td>\n",
       "      <td>services</td>\n",
       "      <td>services</td>\n",
       "      <td>...</td>\n",
       "      <td>4</td>\n",
       "      <td>2</td>\n",
       "      <td>1</td>\n",
       "      <td>2</td>\n",
       "      <td>3</td>\n",
       "      <td>3</td>\n",
       "      <td>2</td>\n",
       "      <td>13</td>\n",
       "      <td>13</td>\n",
       "      <td>13</td>\n",
       "    </tr>\n",
       "    <tr>\n",
       "      <th>...</th>\n",
       "      <td>...</td>\n",
       "      <td>...</td>\n",
       "      <td>...</td>\n",
       "      <td>...</td>\n",
       "      <td>...</td>\n",
       "      <td>...</td>\n",
       "      <td>...</td>\n",
       "      <td>...</td>\n",
       "      <td>...</td>\n",
       "      <td>...</td>\n",
       "      <td>...</td>\n",
       "      <td>...</td>\n",
       "      <td>...</td>\n",
       "      <td>...</td>\n",
       "      <td>...</td>\n",
       "      <td>...</td>\n",
       "      <td>...</td>\n",
       "      <td>...</td>\n",
       "      <td>...</td>\n",
       "      <td>...</td>\n",
       "      <td>...</td>\n",
       "    </tr>\n",
       "    <tr>\n",
       "      <th>360</th>\n",
       "      <td>MS</td>\n",
       "      <td>F</td>\n",
       "      <td>18</td>\n",
       "      <td>U</td>\n",
       "      <td>GT3</td>\n",
       "      <td>T</td>\n",
       "      <td>3</td>\n",
       "      <td>3</td>\n",
       "      <td>services</td>\n",
       "      <td>services</td>\n",
       "      <td>...</td>\n",
       "      <td>5</td>\n",
       "      <td>3</td>\n",
       "      <td>4</td>\n",
       "      <td>1</td>\n",
       "      <td>1</td>\n",
       "      <td>5</td>\n",
       "      <td>0</td>\n",
       "      <td>10</td>\n",
       "      <td>10</td>\n",
       "      <td>10</td>\n",
       "    </tr>\n",
       "    <tr>\n",
       "      <th>361</th>\n",
       "      <td>MS</td>\n",
       "      <td>F</td>\n",
       "      <td>18</td>\n",
       "      <td>U</td>\n",
       "      <td>GT3</td>\n",
       "      <td>T</td>\n",
       "      <td>3</td>\n",
       "      <td>3</td>\n",
       "      <td>services</td>\n",
       "      <td>services</td>\n",
       "      <td>...</td>\n",
       "      <td>4</td>\n",
       "      <td>3</td>\n",
       "      <td>2</td>\n",
       "      <td>1</td>\n",
       "      <td>3</td>\n",
       "      <td>3</td>\n",
       "      <td>6</td>\n",
       "      <td>13</td>\n",
       "      <td>12</td>\n",
       "      <td>13</td>\n",
       "    </tr>\n",
       "    <tr>\n",
       "      <th>362</th>\n",
       "      <td>MS</td>\n",
       "      <td>F</td>\n",
       "      <td>18</td>\n",
       "      <td>U</td>\n",
       "      <td>LE3</td>\n",
       "      <td>T</td>\n",
       "      <td>1</td>\n",
       "      <td>1</td>\n",
       "      <td>at_home</td>\n",
       "      <td>services</td>\n",
       "      <td>...</td>\n",
       "      <td>5</td>\n",
       "      <td>3</td>\n",
       "      <td>2</td>\n",
       "      <td>1</td>\n",
       "      <td>1</td>\n",
       "      <td>4</td>\n",
       "      <td>0</td>\n",
       "      <td>19</td>\n",
       "      <td>17</td>\n",
       "      <td>18</td>\n",
       "    </tr>\n",
       "    <tr>\n",
       "      <th>363</th>\n",
       "      <td>MS</td>\n",
       "      <td>F</td>\n",
       "      <td>18</td>\n",
       "      <td>U</td>\n",
       "      <td>LE3</td>\n",
       "      <td>T</td>\n",
       "      <td>3</td>\n",
       "      <td>1</td>\n",
       "      <td>teacher</td>\n",
       "      <td>services</td>\n",
       "      <td>...</td>\n",
       "      <td>4</td>\n",
       "      <td>3</td>\n",
       "      <td>4</td>\n",
       "      <td>1</td>\n",
       "      <td>1</td>\n",
       "      <td>1</td>\n",
       "      <td>4</td>\n",
       "      <td>15</td>\n",
       "      <td>15</td>\n",
       "      <td>16</td>\n",
       "    </tr>\n",
       "    <tr>\n",
       "      <th>364</th>\n",
       "      <td>MS</td>\n",
       "      <td>F</td>\n",
       "      <td>19</td>\n",
       "      <td>R</td>\n",
       "      <td>GT3</td>\n",
       "      <td>T</td>\n",
       "      <td>2</td>\n",
       "      <td>3</td>\n",
       "      <td>services</td>\n",
       "      <td>other</td>\n",
       "      <td>...</td>\n",
       "      <td>5</td>\n",
       "      <td>4</td>\n",
       "      <td>2</td>\n",
       "      <td>1</td>\n",
       "      <td>2</td>\n",
       "      <td>5</td>\n",
       "      <td>4</td>\n",
       "      <td>10</td>\n",
       "      <td>11</td>\n",
       "      <td>10</td>\n",
       "    </tr>\n",
       "  </tbody>\n",
       "</table>\n",
       "<p>365 rows × 53 columns</p>\n",
       "</div>"
      ],
      "text/plain": [
       "    school sex  age address famsize Pstatus  Medu  Fedu      Mjob      Fjob  \\\n",
       "0       GP   F   15       R     GT3       T     1     1   at_home     other   \n",
       "1       GP   F   15       R     GT3       T     1     1     other     other   \n",
       "2       GP   F   15       R     GT3       T     2     2   at_home     other   \n",
       "3       GP   F   15       R     GT3       T     2     4  services    health   \n",
       "4       GP   F   15       R     GT3       T     3     3  services  services   \n",
       "..     ...  ..  ...     ...     ...     ...   ...   ...       ...       ...   \n",
       "360     MS   F   18       U     GT3       T     3     3  services  services   \n",
       "361     MS   F   18       U     GT3       T     3     3  services  services   \n",
       "362     MS   F   18       U     LE3       T     1     1   at_home  services   \n",
       "363     MS   F   18       U     LE3       T     3     1   teacher  services   \n",
       "364     MS   F   19       R     GT3       T     2     3  services     other   \n",
       "\n",
       "     ... famrel.y freetime.y goout.y Dalc.y  Walc.y  health.y  absences.y  \\\n",
       "0    ...        3          1       2      1       1         1           4   \n",
       "1    ...        3          3       4      2       4         5           2   \n",
       "2    ...        4          3       1      1       1         2           8   \n",
       "3    ...        4          3       2      1       1         5           2   \n",
       "4    ...        4          2       1      2       3         3           2   \n",
       "..   ...      ...        ...     ...    ...     ...       ...         ...   \n",
       "360  ...        5          3       4      1       1         5           0   \n",
       "361  ...        4          3       2      1       3         3           6   \n",
       "362  ...        5          3       2      1       1         4           0   \n",
       "363  ...        4          3       4      1       1         1           4   \n",
       "364  ...        5          4       2      1       2         5           4   \n",
       "\n",
       "    G1.y G2.y G3.y  \n",
       "0     13   13   13  \n",
       "1     13   11   11  \n",
       "2     14   13   12  \n",
       "3     10   11   10  \n",
       "4     13   13   13  \n",
       "..   ...  ...  ...  \n",
       "360   10   10   10  \n",
       "361   13   12   13  \n",
       "362   19   17   18  \n",
       "363   15   15   16  \n",
       "364   10   11   10  \n",
       "\n",
       "[365 rows x 53 columns]"
      ]
     },
     "execution_count": 6,
     "metadata": {},
     "output_type": "execute_result"
    }
   ],
   "source": [
    "students = pd.read_csv(\"student.csv\")\n",
    "students.head(365)"
   ]
  },
  {
   "cell_type": "code",
   "execution_count": 3,
   "metadata": {},
   "outputs": [
    {
     "name": "stdout",
     "output_type": "stream",
     "text": [
      "Your groups are: 3 and 3\n"
     ]
    }
   ],
   "source": [
    "studentnumber = \"r0839461\"\n",
    "\n",
    "def stdnr_splitter(studentnumber):\n",
    "    # decompose student number into interesting \n",
    "    cons_array = np.array(list(studentnumber))[2:].astype(int)\n",
    "    indices = np.unique(cons_array)\n",
    "    sum = round(np.sum(cons_array)/6)+1\n",
    "    random = randrange(7)+1\n",
    "    # interaction terms\n",
    "    var1_index = int(round((sum*random)/7)+1)\n",
    "    # quadratic terms\n",
    "    var2a_index = int(round((sum/random)))\n",
    "    var2b_index = int(round((randrange(10)+1)%var2a_index))\n",
    "    print(f\"Your groups are: {var1_index} and {var2a_index}\")\n",
    "\n",
    "stdnr_splitter(studentnumber)"
   ]
  },
  {
   "cell_type": "code",
   "execution_count": 56,
   "metadata": {},
   "outputs": [
    {
     "data": {
      "text/html": [
       "<div>\n",
       "<style scoped>\n",
       "    .dataframe tbody tr th:only-of-type {\n",
       "        vertical-align: middle;\n",
       "    }\n",
       "\n",
       "    .dataframe tbody tr th {\n",
       "        vertical-align: top;\n",
       "    }\n",
       "\n",
       "    .dataframe thead th {\n",
       "        text-align: right;\n",
       "    }\n",
       "</style>\n",
       "<table border=\"1\" class=\"dataframe\">\n",
       "  <thead>\n",
       "    <tr style=\"text-align: right;\">\n",
       "      <th></th>\n",
       "      <th>school</th>\n",
       "      <th>sex</th>\n",
       "      <th>age</th>\n",
       "      <th>address</th>\n",
       "      <th>famsize</th>\n",
       "      <th>freetime</th>\n",
       "      <th>guardian</th>\n",
       "      <th>traveltime</th>\n",
       "      <th>studytime</th>\n",
       "      <th>failures</th>\n",
       "      <th>G1_math</th>\n",
       "      <th>G2_math</th>\n",
       "      <th>G3_math</th>\n",
       "      <th>G1_portu</th>\n",
       "      <th>G2_portu</th>\n",
       "      <th>G3_portu</th>\n",
       "    </tr>\n",
       "  </thead>\n",
       "  <tbody>\n",
       "    <tr>\n",
       "      <th>143</th>\n",
       "      <td>GP</td>\n",
       "      <td>F</td>\n",
       "      <td>18</td>\n",
       "      <td>R</td>\n",
       "      <td>GT3</td>\n",
       "      <td>1</td>\n",
       "      <td>mother</td>\n",
       "      <td>2</td>\n",
       "      <td>2</td>\n",
       "      <td>0</td>\n",
       "      <td>10</td>\n",
       "      <td>9</td>\n",
       "      <td>9</td>\n",
       "      <td>12</td>\n",
       "      <td>9</td>\n",
       "      <td>10</td>\n",
       "    </tr>\n",
       "    <tr>\n",
       "      <th>144</th>\n",
       "      <td>GP</td>\n",
       "      <td>F</td>\n",
       "      <td>18</td>\n",
       "      <td>R</td>\n",
       "      <td>GT3</td>\n",
       "      <td>2</td>\n",
       "      <td>mother</td>\n",
       "      <td>3</td>\n",
       "      <td>1</td>\n",
       "      <td>3</td>\n",
       "      <td>9</td>\n",
       "      <td>8</td>\n",
       "      <td>10</td>\n",
       "      <td>11</td>\n",
       "      <td>10</td>\n",
       "      <td>11</td>\n",
       "    </tr>\n",
       "    <tr>\n",
       "      <th>145</th>\n",
       "      <td>GP</td>\n",
       "      <td>F</td>\n",
       "      <td>18</td>\n",
       "      <td>R</td>\n",
       "      <td>GT3</td>\n",
       "      <td>3</td>\n",
       "      <td>mother</td>\n",
       "      <td>2</td>\n",
       "      <td>2</td>\n",
       "      <td>0</td>\n",
       "      <td>6</td>\n",
       "      <td>0</td>\n",
       "      <td>0</td>\n",
       "      <td>8</td>\n",
       "      <td>9</td>\n",
       "      <td>10</td>\n",
       "    </tr>\n",
       "    <tr>\n",
       "      <th>146</th>\n",
       "      <td>GP</td>\n",
       "      <td>F</td>\n",
       "      <td>18</td>\n",
       "      <td>R</td>\n",
       "      <td>GT3</td>\n",
       "      <td>4</td>\n",
       "      <td>mother</td>\n",
       "      <td>2</td>\n",
       "      <td>4</td>\n",
       "      <td>0</td>\n",
       "      <td>10</td>\n",
       "      <td>9</td>\n",
       "      <td>0</td>\n",
       "      <td>14</td>\n",
       "      <td>13</td>\n",
       "      <td>14</td>\n",
       "    </tr>\n",
       "    <tr>\n",
       "      <th>147</th>\n",
       "      <td>GP</td>\n",
       "      <td>F</td>\n",
       "      <td>18</td>\n",
       "      <td>R</td>\n",
       "      <td>GT3</td>\n",
       "      <td>3</td>\n",
       "      <td>mother</td>\n",
       "      <td>1</td>\n",
       "      <td>2</td>\n",
       "      <td>1</td>\n",
       "      <td>9</td>\n",
       "      <td>8</td>\n",
       "      <td>7</td>\n",
       "      <td>8</td>\n",
       "      <td>8</td>\n",
       "      <td>8</td>\n",
       "    </tr>\n",
       "  </tbody>\n",
       "</table>\n",
       "</div>"
      ],
      "text/plain": [
       "    school sex  age address famsize  freetime guardian  traveltime  studytime  \\\n",
       "143     GP   F   18       R     GT3         1   mother           2          2   \n",
       "144     GP   F   18       R     GT3         2   mother           3          1   \n",
       "145     GP   F   18       R     GT3         3   mother           2          2   \n",
       "146     GP   F   18       R     GT3         4   mother           2          4   \n",
       "147     GP   F   18       R     GT3         3   mother           1          2   \n",
       "\n",
       "     failures  G1_math  G2_math  G3_math  G1_portu  G2_portu  G3_portu  \n",
       "143         0       10        9        9        12         9        10  \n",
       "144         3        9        8       10        11        10        11  \n",
       "145         0        6        0        0         8         9        10  \n",
       "146         0       10        9        0        14        13        14  \n",
       "147         1        9        8        7         8         8         8  "
      ]
     },
     "execution_count": 56,
     "metadata": {},
     "output_type": "execute_result"
    }
   ],
   "source": [
    "# Hier maak ik mijn eigen database aan genaamd dataset en ik steek hier de basic informatie, \n",
    "# mijn nummer informatie en de grade scores in\n",
    "\n",
    "# BEKIJK VOOR ALLE 18 JARIGE \n",
    "datasetje = students[students['age']==18]\n",
    "dataset = {'school':datasetje[\"school\"], 'sex':datasetje[\"sex\"], 'age':datasetje[\"age\"], 'address':datasetje[\"address\"], 'famsize':datasetje[\"famsize\"], 'freetime':datasetje[\"freetime.x\"], 'guardian':datasetje[\"guardian.x\"], 'traveltime':datasetje[\"traveltime.x\"], 'studytime':datasetje[\"studytime.x\"], 'failures':datasetje[\"failures.x\"], 'G1_math':datasetje[\"G1.x\"], 'G2_math':datasetje[\"G2.x\"], 'G3_math':datasetje[\"G3.x\"], 'G1_portu':datasetje[\"G1.y\"], 'G2_portu':datasetje[\"G2.y\"], 'G3_portu':datasetje[\"G3.y\"]}\n",
    "data = pd.DataFrame(dataset)\n",
    "data.head()"
   ]
  },
  {
   "cell_type": "code",
   "execution_count": 57,
   "metadata": {},
   "outputs": [
    {
     "data": {
      "text/html": [
       "<div>\n",
       "<style scoped>\n",
       "    .dataframe tbody tr th:only-of-type {\n",
       "        vertical-align: middle;\n",
       "    }\n",
       "\n",
       "    .dataframe tbody tr th {\n",
       "        vertical-align: top;\n",
       "    }\n",
       "\n",
       "    .dataframe thead th {\n",
       "        text-align: right;\n",
       "    }\n",
       "</style>\n",
       "<table border=\"1\" class=\"dataframe\">\n",
       "  <thead>\n",
       "    <tr style=\"text-align: right;\">\n",
       "      <th></th>\n",
       "      <th>G1_math</th>\n",
       "      <th>G2_math</th>\n",
       "      <th>G3_math</th>\n",
       "      <th>G1_portu</th>\n",
       "      <th>G2_portu</th>\n",
       "      <th>G3_portu</th>\n",
       "    </tr>\n",
       "  </thead>\n",
       "  <tbody>\n",
       "    <tr>\n",
       "      <th>143</th>\n",
       "      <td>10</td>\n",
       "      <td>9</td>\n",
       "      <td>9</td>\n",
       "      <td>12</td>\n",
       "      <td>9</td>\n",
       "      <td>10</td>\n",
       "    </tr>\n",
       "    <tr>\n",
       "      <th>144</th>\n",
       "      <td>9</td>\n",
       "      <td>8</td>\n",
       "      <td>10</td>\n",
       "      <td>11</td>\n",
       "      <td>10</td>\n",
       "      <td>11</td>\n",
       "    </tr>\n",
       "    <tr>\n",
       "      <th>145</th>\n",
       "      <td>6</td>\n",
       "      <td>0</td>\n",
       "      <td>0</td>\n",
       "      <td>8</td>\n",
       "      <td>9</td>\n",
       "      <td>10</td>\n",
       "    </tr>\n",
       "    <tr>\n",
       "      <th>146</th>\n",
       "      <td>10</td>\n",
       "      <td>9</td>\n",
       "      <td>0</td>\n",
       "      <td>14</td>\n",
       "      <td>13</td>\n",
       "      <td>14</td>\n",
       "    </tr>\n",
       "    <tr>\n",
       "      <th>147</th>\n",
       "      <td>9</td>\n",
       "      <td>8</td>\n",
       "      <td>7</td>\n",
       "      <td>8</td>\n",
       "      <td>8</td>\n",
       "      <td>8</td>\n",
       "    </tr>\n",
       "  </tbody>\n",
       "</table>\n",
       "</div>"
      ],
      "text/plain": [
       "     G1_math  G2_math  G3_math  G1_portu  G2_portu  G3_portu\n",
       "143       10        9        9        12         9        10\n",
       "144        9        8       10        11        10        11\n",
       "145        6        0        0         8         9        10\n",
       "146       10        9        0        14        13        14\n",
       "147        9        8        7         8         8         8"
      ]
     },
     "execution_count": 57,
     "metadata": {},
     "output_type": "execute_result"
    }
   ],
   "source": [
    "# Al de punten zijn afhankelijk van de studytime en freetime die de leerlingen hebben.\n",
    "afhankelijk = {\"G1_math\": dataset[\"G1_math\"], \"G2_math\": dataset[\"G2_math\"], \"G3_math\": dataset[\"G3_math\"], \"G1_portu\": dataset[\"G1_portu\"], \"G2_portu\": dataset[\"G2_portu\"], \"G3_portu\": dataset[\"G3_portu\"]}\n",
    "afhankelijkedata = pd.DataFrame(afhankelijk)\n",
    "afhankelijkedata.head()"
   ]
  },
  {
   "cell_type": "code",
   "execution_count": 58,
   "metadata": {},
   "outputs": [
    {
     "data": {
      "text/html": [
       "<div>\n",
       "<style scoped>\n",
       "    .dataframe tbody tr th:only-of-type {\n",
       "        vertical-align: middle;\n",
       "    }\n",
       "\n",
       "    .dataframe tbody tr th {\n",
       "        vertical-align: top;\n",
       "    }\n",
       "\n",
       "    .dataframe thead th {\n",
       "        text-align: right;\n",
       "    }\n",
       "</style>\n",
       "<table border=\"1\" class=\"dataframe\">\n",
       "  <thead>\n",
       "    <tr style=\"text-align: right;\">\n",
       "      <th></th>\n",
       "      <th>school</th>\n",
       "      <th>sex</th>\n",
       "      <th>age</th>\n",
       "      <th>address</th>\n",
       "      <th>famsize</th>\n",
       "      <th>freetime</th>\n",
       "      <th>guardian</th>\n",
       "      <th>traveltime</th>\n",
       "      <th>studytime</th>\n",
       "      <th>failures</th>\n",
       "    </tr>\n",
       "  </thead>\n",
       "  <tbody>\n",
       "    <tr>\n",
       "      <th>143</th>\n",
       "      <td>GP</td>\n",
       "      <td>F</td>\n",
       "      <td>18</td>\n",
       "      <td>R</td>\n",
       "      <td>GT3</td>\n",
       "      <td>1</td>\n",
       "      <td>mother</td>\n",
       "      <td>2</td>\n",
       "      <td>2</td>\n",
       "      <td>0</td>\n",
       "    </tr>\n",
       "    <tr>\n",
       "      <th>144</th>\n",
       "      <td>GP</td>\n",
       "      <td>F</td>\n",
       "      <td>18</td>\n",
       "      <td>R</td>\n",
       "      <td>GT3</td>\n",
       "      <td>2</td>\n",
       "      <td>mother</td>\n",
       "      <td>3</td>\n",
       "      <td>1</td>\n",
       "      <td>3</td>\n",
       "    </tr>\n",
       "    <tr>\n",
       "      <th>145</th>\n",
       "      <td>GP</td>\n",
       "      <td>F</td>\n",
       "      <td>18</td>\n",
       "      <td>R</td>\n",
       "      <td>GT3</td>\n",
       "      <td>3</td>\n",
       "      <td>mother</td>\n",
       "      <td>2</td>\n",
       "      <td>2</td>\n",
       "      <td>0</td>\n",
       "    </tr>\n",
       "    <tr>\n",
       "      <th>146</th>\n",
       "      <td>GP</td>\n",
       "      <td>F</td>\n",
       "      <td>18</td>\n",
       "      <td>R</td>\n",
       "      <td>GT3</td>\n",
       "      <td>4</td>\n",
       "      <td>mother</td>\n",
       "      <td>2</td>\n",
       "      <td>4</td>\n",
       "      <td>0</td>\n",
       "    </tr>\n",
       "    <tr>\n",
       "      <th>147</th>\n",
       "      <td>GP</td>\n",
       "      <td>F</td>\n",
       "      <td>18</td>\n",
       "      <td>R</td>\n",
       "      <td>GT3</td>\n",
       "      <td>3</td>\n",
       "      <td>mother</td>\n",
       "      <td>1</td>\n",
       "      <td>2</td>\n",
       "      <td>1</td>\n",
       "    </tr>\n",
       "  </tbody>\n",
       "</table>\n",
       "</div>"
      ],
      "text/plain": [
       "    school sex  age address famsize  freetime guardian  traveltime  studytime  \\\n",
       "143     GP   F   18       R     GT3         1   mother           2          2   \n",
       "144     GP   F   18       R     GT3         2   mother           3          1   \n",
       "145     GP   F   18       R     GT3         3   mother           2          2   \n",
       "146     GP   F   18       R     GT3         4   mother           2          4   \n",
       "147     GP   F   18       R     GT3         3   mother           1          2   \n",
       "\n",
       "     failures  \n",
       "143         0  \n",
       "144         3  \n",
       "145         0  \n",
       "146         0  \n",
       "147         1  "
      ]
     },
     "execution_count": 58,
     "metadata": {},
     "output_type": "execute_result"
    }
   ],
   "source": [
    "# School, sex, age, address,famsize, guardian en failures \n",
    "onafhankelijk = {\"school\": dataset[\"school\"], \"sex\": dataset[\"sex\"], \"age\": dataset[\"age\"], \"address\": dataset[\"address\"], \"famsize\": dataset[\"famsize\"], \"freetime\": dataset[\"freetime\"], \"guardian\": dataset[\"guardian\"], \"traveltime\": dataset[\"traveltime\"], \"studytime\": dataset[\"studytime\"], \"failures\": dataset[\"failures\"]}\n",
    "onafhankelijkedata = pd.DataFrame(onafhankelijk)\n",
    "onafhankelijkedata.head()"
   ]
  },
  {
   "cell_type": "code",
   "execution_count": 59,
   "metadata": {},
   "outputs": [
    {
     "data": {
      "text/html": [
       "<div>\n",
       "<style scoped>\n",
       "    .dataframe tbody tr th:only-of-type {\n",
       "        vertical-align: middle;\n",
       "    }\n",
       "\n",
       "    .dataframe tbody tr th {\n",
       "        vertical-align: top;\n",
       "    }\n",
       "\n",
       "    .dataframe thead th {\n",
       "        text-align: right;\n",
       "    }\n",
       "</style>\n",
       "<table border=\"1\" class=\"dataframe\">\n",
       "  <thead>\n",
       "    <tr style=\"text-align: right;\">\n",
       "      <th></th>\n",
       "      <th>studytime</th>\n",
       "      <th>G3</th>\n",
       "    </tr>\n",
       "  </thead>\n",
       "  <tbody>\n",
       "    <tr>\n",
       "      <th>143</th>\n",
       "      <td>2</td>\n",
       "      <td>9</td>\n",
       "    </tr>\n",
       "    <tr>\n",
       "      <th>144</th>\n",
       "      <td>1</td>\n",
       "      <td>10</td>\n",
       "    </tr>\n",
       "    <tr>\n",
       "      <th>145</th>\n",
       "      <td>2</td>\n",
       "      <td>0</td>\n",
       "    </tr>\n",
       "    <tr>\n",
       "      <th>146</th>\n",
       "      <td>4</td>\n",
       "      <td>0</td>\n",
       "    </tr>\n",
       "    <tr>\n",
       "      <th>147</th>\n",
       "      <td>2</td>\n",
       "      <td>7</td>\n",
       "    </tr>\n",
       "  </tbody>\n",
       "</table>\n",
       "</div>"
      ],
      "text/plain": [
       "     studytime  G3\n",
       "143          2   9\n",
       "144          1  10\n",
       "145          2   0\n",
       "146          4   0\n",
       "147          2   7"
      ]
     },
     "execution_count": 59,
     "metadata": {},
     "output_type": "execute_result"
    }
   ],
   "source": [
    "# DEZE DATABASE BEVAT DE INFO DIE GEBRUIKT WORD.\n",
    "linear = {\"studytime\": onafhankelijkedata[\"studytime\"], \"G3\": afhankelijkedata[\"G3_math\"]}\n",
    "lineardata = pd.DataFrame(linear)\n",
    "lineardata.head()"
   ]
  },
  {
   "cell_type": "code",
   "execution_count": 60,
   "metadata": {},
   "outputs": [],
   "source": [
    "# Hier zet ik de data die ik ga gebruiken in een test en train data om hiermee te werken.\n",
    "x_train, x_test, y_train, y_test = train_test_split(lineardata[\"studytime\"], lineardata[\"G3\"], test_size=0.25, random_state=0)\n",
    "x_train= x_train.values.reshape(-1, 1)\n",
    "y_train= y_train.values.reshape(-1, 1)\n",
    "x_test = x_test.values.reshape(-1, 1)"
   ]
  },
  {
   "cell_type": "markdown",
   "metadata": {},
   "source": [
    "## Linear regression"
   ]
  },
  {
   "cell_type": "code",
   "execution_count": 61,
   "metadata": {},
   "outputs": [],
   "source": [
    "regressor = LinearRegression()"
   ]
  },
  {
   "cell_type": "code",
   "execution_count": 62,
   "metadata": {},
   "outputs": [
    {
     "data": {
      "text/plain": [
       "LinearRegression()"
      ]
     },
     "execution_count": 62,
     "metadata": {},
     "output_type": "execute_result"
    }
   ],
   "source": [
    "regressor.fit(x_train, y_train)"
   ]
  },
  {
   "cell_type": "code",
   "execution_count": 19,
   "metadata": {},
   "outputs": [
    {
     "data": {
      "text/plain": [
       "array([[ 9.17263844],\n",
       "       [ 7.96742671],\n",
       "       [10.37785016],\n",
       "       [ 9.17263844],\n",
       "       [10.37785016],\n",
       "       [ 9.17263844],\n",
       "       [ 7.96742671],\n",
       "       [ 9.17263844],\n",
       "       [ 9.17263844],\n",
       "       [ 9.17263844],\n",
       "       [11.58306189],\n",
       "       [ 9.17263844],\n",
       "       [ 9.17263844],\n",
       "       [ 7.96742671],\n",
       "       [ 7.96742671],\n",
       "       [10.37785016],\n",
       "       [ 9.17263844],\n",
       "       [ 9.17263844],\n",
       "       [ 9.17263844],\n",
       "       [10.37785016],\n",
       "       [10.37785016],\n",
       "       [ 7.96742671],\n",
       "       [ 7.96742671],\n",
       "       [ 7.96742671],\n",
       "       [ 9.17263844],\n",
       "       [ 9.17263844],\n",
       "       [10.37785016],\n",
       "       [11.58306189],\n",
       "       [11.58306189],\n",
       "       [10.37785016],\n",
       "       [ 7.96742671],\n",
       "       [ 9.17263844],\n",
       "       [ 9.17263844],\n",
       "       [10.37785016],\n",
       "       [10.37785016],\n",
       "       [ 9.17263844],\n",
       "       [ 7.96742671],\n",
       "       [11.58306189],\n",
       "       [ 9.17263844],\n",
       "       [ 9.17263844],\n",
       "       [10.37785016],\n",
       "       [ 9.17263844],\n",
       "       [ 9.17263844],\n",
       "       [ 7.96742671],\n",
       "       [ 9.17263844],\n",
       "       [ 9.17263844],\n",
       "       [ 7.96742671],\n",
       "       [ 7.96742671],\n",
       "       [ 7.96742671],\n",
       "       [10.37785016],\n",
       "       [10.37785016],\n",
       "       [ 9.17263844],\n",
       "       [ 9.17263844],\n",
       "       [ 9.17263844],\n",
       "       [ 9.17263844],\n",
       "       [ 9.17263844],\n",
       "       [ 9.17263844],\n",
       "       [ 9.17263844],\n",
       "       [ 9.17263844],\n",
       "       [10.37785016]])"
      ]
     },
     "execution_count": 19,
     "metadata": {},
     "output_type": "execute_result"
    }
   ],
   "source": [
    "regressor.predict(x_train)"
   ]
  },
  {
   "cell_type": "code",
   "execution_count": 63,
   "metadata": {},
   "outputs": [
    {
     "data": {
      "text/plain": [
       "0.01424428291323876"
      ]
     },
     "execution_count": 63,
     "metadata": {},
     "output_type": "execute_result"
    }
   ],
   "source": [
    "# Hier zien we de score van de linear regression\n",
    "# deze is zeer laag en dus zeer slecht omdat de data niet altijd gelijk is van personen met dezelfde studytime\n",
    "regressor.score(x_test, y_test)"
   ]
  },
  {
   "cell_type": "code",
   "execution_count": 64,
   "metadata": {},
   "outputs": [
    {
     "data": {
      "text/plain": [
       "85.23809523809524"
      ]
     },
     "execution_count": 64,
     "metadata": {},
     "output_type": "execute_result"
    }
   ],
   "source": [
    "# daarom zijn er hier ook veel errors!\n",
    "mean_squared_error(x_test, y_test)"
   ]
  },
  {
   "cell_type": "markdown",
   "metadata": {},
   "source": [
    "## polynomial regression"
   ]
  },
  {
   "cell_type": "code",
   "execution_count": 65,
   "metadata": {},
   "outputs": [
    {
     "data": {
      "image/png": "[encoded data removed]",
      "text/plain": [
       "<Figure size 432x288 with 1 Axes>"
      ]
     },
     "metadata": {},
     "output_type": "display_data"
    }
   ],
   "source": [
    "# in deze scatterplot kunnen we zien dat er zowel mensen hoge punten scoren bij 1 studytime vergeleken met die van 4\n",
    "# We kunnen wel meteen zien dat er minder mensen aan 4 studytime zijn geraakt dan mensen in 1,2 en 3\n",
    "plt.scatter(x_train, y_train)\n",
    "plt.show()"
   ]
  },
  {
   "cell_type": "code",
   "execution_count": 66,
   "metadata": {},
   "outputs": [
    {
     "name": "stdout",
     "output_type": "stream",
     "text": [
      "0.12109181141439207\n"
     ]
    }
   ],
   "source": [
    "# ik gebruik hier degree 5 of hoger omdat dit de meest accurate degree is van de data\n",
    "# dit wil zeggen dat de relatie tussen de data op x^5 is of hoger voor accuratere data.\n",
    "pol_0 = PolynomialFeatures(degree=5)\n",
    "model = LinearRegression()\n",
    "model.fit(pol_0.fit_transform(x_train), y_train)\n",
    "print(model.score(pol_0.fit_transform(x_train), y_train))"
   ]
  },
  {
   "cell_type": "markdown",
   "metadata": {},
   "source": [
    "## Logistic regression"
   ]
  },
  {
   "cell_type": "code",
   "execution_count": 76,
   "metadata": {},
   "outputs": [
    {
     "name": "stdout",
     "output_type": "stream",
     "text": [
      "[10 10 14 14 10 10 10 10 10 14 10 10 10 10 10 10 14 10 10 14 14]\n"
     ]
    },
    {
     "name": "stderr",
     "output_type": "stream",
     "text": [
      "C:\\Users\\robby\\anaconda3\\lib\\site-packages\\sklearn\\utils\\validation.py:72: DataConversionWarning: A column-vector y was passed when a 1d array was expected. Please change the shape of y to (n_samples, ), for example using ravel().\n",
      "  return f(**kwargs)\n"
     ]
    }
   ],
   "source": [
    "model2 = LogisticRegression()\n",
    "model2.fit(x_train, y_train)\n",
    "predictions = model2.predict(x_test)\n",
    "print(predictions)"
   ]
  },
  {
   "cell_type": "code",
   "execution_count": 77,
   "metadata": {},
   "outputs": [
    {
     "name": "stdout",
     "output_type": "stream",
     "text": [
      "0.09523809523809523\n"
     ]
    }
   ],
   "source": [
    "score = model2.score(x_test, y_test)\n",
    "print(score)"
   ]
  },
  {
   "cell_type": "code",
   "execution_count": 68,
   "metadata": {},
   "outputs": [],
   "source": [
    "# voor de decision tree en kNN spreken we van een groepering waar al de mensen boven 9 geslaagd zijn \n",
    "geslaagd = linear[\"G3\"] > 9\n",
    "linear[\"studytime\"] = linear[\"studytime\"].values.reshape(-1, 1)"
   ]
  },
  {
   "cell_type": "code",
   "execution_count": 87,
   "metadata": {},
   "outputs": [
    {
     "data": {
      "image/png": "[encoded data removed]",
      "text/plain": [
       "<Figure size 432x288 with 1 Axes>"
      ]
     },
     "metadata": {},
     "output_type": "display_data"
    }
   ],
   "source": [
    "plt.bar(geslaagd, linear[\"G3\"], width=0.2)\n",
    "plt.show()"
   ]
  },
  {
   "cell_type": "markdown",
   "metadata": {},
   "source": [
    "## Decision tree"
   ]
  },
  {
   "cell_type": "code",
   "execution_count": 79,
   "metadata": {},
   "outputs": [
    {
     "name": "stdout",
     "output_type": "stream",
     "text": [
      "[False False  True  True False False False False False  True False False\n",
      " False False False False  True False False  True  True]\n"
     ]
    }
   ],
   "source": [
    "Decision = DecisionTreeClassifier()\n",
    "decision_fit = Decision.fit(linear[\"studytime\"], geslaagd)\n",
    "predictions = Decision.predict(x_test)\n",
    "print(predictions)"
   ]
  },
  {
   "cell_type": "code",
   "execution_count": 89,
   "metadata": {},
   "outputs": [
    {
     "data": {
      "text/plain": [
       "0.5802469135802469"
      ]
     },
     "execution_count": 89,
     "metadata": {},
     "output_type": "execute_result"
    }
   ],
   "source": [
    "decision_fit.score(linear[\"studytime\"], geslaagd)"
   ]
  },
  {
   "cell_type": "markdown",
   "metadata": {},
   "source": [
    "## K nearest neighbours"
   ]
  },
  {
   "cell_type": "code",
   "execution_count": 86,
   "metadata": {},
   "outputs": [
    {
     "name": "stdout",
     "output_type": "stream",
     "text": [
      "[False False  True  True False False False False False  True False False\n",
      " False False False False  True False False  True  True]\n"
     ]
    },
    {
     "data": {
      "text/plain": [
       "0.5802469135802469"
      ]
     },
     "execution_count": 86,
     "metadata": {},
     "output_type": "execute_result"
    }
   ],
   "source": [
    "# Hier kijken we naar de dichte buren per studytime en zien we dat we iets minder accuraat zijn als logistic en decision trees\n",
    "# maar hier spreken we wel beter dan linear of polynomial.\n",
    "neigh = KNeighborsClassifier(n_neighbors=9)\n",
    "neigh.fit(linear[\"studytime\"], geslaagd)\n",
    "\n",
    "neigh.predict(x_test[0].reshape(1,-1))\n",
    "neigh.predict(x_test[0:10])\n",
    "predictions = neigh.predict(x_test)\n",
    "print(predictions)\n",
    "\n",
    "neigh.score(linear[\"studytime\"], geslaagd)"
   ]
  },
  {
   "cell_type": "markdown",
   "metadata": {},
   "source": [
    "## K-mean"
   ]
  },
  {
   "cell_type": "code",
   "execution_count": 88,
   "metadata": {},
   "outputs": [
    {
     "data": {
      "text/plain": [
       "0.09876543209876543"
      ]
     },
     "execution_count": 88,
     "metadata": {},
     "output_type": "execute_result"
    }
   ],
   "source": [
    "# hier spreken we niet van classificatie maar van clustering en gaan we meer vergelijken op gelijke kenmerken\n",
    "# dit is veel slechter dan in groepering bij decision trees , logistic regression en k Nearest Neighbours\n",
    "from sklearn.metrics import accuracy_score\n",
    "accuracy_score(linear[\"studytime\"], geslaagd)"
   ]
  },
  {
   "cell_type": "markdown",
   "metadata": {},
   "source": [
    "## CONCLUSION\n",
    "\n",
    "bij mijn berekeningen heb ik ondervonden dat linear en k-mean de slechste benadering zijn voor mijn onderzoek.\n",
    "Polynomial regression doet het iets beter nu dat we specifiek op leeftijd gaan met een kleine 12%.\n",
    "de Knn en decision tree komen dan wat accurater uit met 58% maar is nog steeds niet top.\n",
    "De logistic regression is hier hetzelfde als de k-mean, maar het valt wel op dat de tijd van studeren niet veel uitmaakte bij deze studenten, bij het nakijken van de data zelfstandig merkte ik zel al op dat mensen die 5 gaven bij studytime soms minder punten hadden dan bij mensen die maar 1 bij studytime hebben gezet. \n",
    "\n",
    "Ook verschilt het heel veel sommige mensen met 5 studytime hebben hoge punten sommige laag dus het inschatten hier is zeer moeilijk zonder zelfstandig naar de data te gaan kijken. \n",
    "\n",
    "Daarom denk ik dat het beste is om groeperingen te maken van geslaagd of niet geslaagd en zo verder te gaan onderzoeken en niet per persoon te gaan kijken bij de linear regression en polynomial regressie.\n",
    "\n",
    "Ook voor dit examen heb ik nu per leeftijd gepakt zodat er veel minder leeftijdsverschil zit tussen de studenten en zo is de data ook iets accurater omdat we met minder verspreidde data werken."
   ]
  },
  {
   "cell_type": "code",
   "execution_count": null,
   "metadata": {},
   "outputs": [],
   "source": []
  }
 ],
 "metadata": {
  "kernelspec": {
   "display_name": "Python 3",
   "language": "python",
   "name": "python3"
  },
  "language_info": {
   "codemirror_mode": {
    "name": "ipython",
    "version": 3
   },
   "file_extension": ".py",
   "mimetype": "text/x-python",
   "name": "python",
   "nbconvert_exporter": "python",
   "pygments_lexer": "ipython3",
   "version": "3.8.5"
  }
 },
 "nbformat": 4,
 "nbformat_minor": 4
}
